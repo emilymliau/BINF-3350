{
  "nbformat": 4,
  "nbformat_minor": 0,
  "metadata": {
    "colab": {
      "provenance": [],
      "collapsed_sections": []
    },
    "kernelspec": {
      "name": "python3",
      "display_name": "Python 3"
    },
    "language_info": {
      "name": "python"
    }
  },
  "cells": [
    {
      "cell_type": "code",
      "source": [
        "from google.colab import drive\n",
        "drive.mount('/content/drive')"
      ],
      "metadata": {
        "colab": {
          "base_uri": "https://localhost:8080/"
        },
        "id": "q9Y5OEk60goN",
        "outputId": "91a7a01f-24b3-46b3-f359-b76c6d2f1521"
      },
      "execution_count": null,
      "outputs": [
        {
          "output_type": "stream",
          "name": "stdout",
          "text": [
            "Mounted at /content/drive\n"
          ]
        }
      ]
    },
    {
      "cell_type": "code",
      "execution_count": null,
      "metadata": {
        "id": "83cSRElc0YA2"
      },
      "outputs": [],
      "source": [
        "import pandas as pd"
      ]
    },
    {
      "cell_type": "code",
      "source": [
        "cancer = pd.read_csv(\"/content/drive/My Drive/Colab Notebooks/BINF 3350: Genomics & Bioinformatics/file.txt\")"
      ],
      "metadata": {
        "id": "Dn8Fs0gA0grx"
      },
      "execution_count": null,
      "outputs": []
    },
    {
      "cell_type": "code",
      "source": [
        "cancer.to_csv(\"/content/drive/My Drive/Colab Notebooks/BINF 3350: Genomics & Bioinformatics/file.csv\", index = None)"
      ],
      "metadata": {
        "id": "Dnq6B1BDUjxj"
      },
      "execution_count": null,
      "outputs": []
    }
  ]
}